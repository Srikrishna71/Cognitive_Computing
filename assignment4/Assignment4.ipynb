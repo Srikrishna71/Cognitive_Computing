{
  "metadata": {
    "kernelspec": {
      "name": "python",
      "display_name": "Python (Pyodide)",
      "language": "python"
    },
    "language_info": {
      "codemirror_mode": {
        "name": "python",
        "version": 3
      },
      "file_extension": ".py",
      "mimetype": "text/x-python",
      "name": "python",
      "nbconvert_exporter": "python",
      "pygments_lexer": "ipython3",
      "version": "3.8"
    }
  },
  "nbformat_minor": 5,
  "nbformat": 4,
  "cells": [
    {
      "id": "062527af-4fdb-4e10-9c0e-a9e12949698d",
      "cell_type": "code",
      "source": "import numpy as np",
      "metadata": {
        "trusted": true
      },
      "outputs": [],
      "execution_count": 1
    },
    {
      "id": "2e2a8fc8-929d-4ea9-82af-d814bb671cf8",
      "cell_type": "code",
      "source": "a=np.array([1,2,3,4,5])\na=a+2\nprint(a)\na=a*3\nprint(a)\na=a/2\nprint(a)",
      "metadata": {
        "trusted": true
      },
      "outputs": [
        {
          "name": "stdout",
          "output_type": "stream",
          "text": "[3 4 5 6 7]\n[ 9 12 15 18 21]\n[ 4.5  6.   7.5  9.  10.5]\n"
        }
      ],
      "execution_count": 2
    },
    {
      "id": "0e588d2b-8493-4f32-8e7b-c55b65ecf4f8",
      "cell_type": "code",
      "source": "arr=np.array([1,2,3,6,4,5])\nr=arr[::-1]\nprint(r)",
      "metadata": {
        "trusted": true
      },
      "outputs": [
        {
          "name": "stdout",
          "output_type": "stream",
          "text": "[5 4 6 3 2 1]\n"
        }
      ],
      "execution_count": 5
    },
    {
      "id": "0c99d909-b43b-4ecd-82b4-8cbeabf42983",
      "cell_type": "code",
      "source": "def most_frequent(arr):\n    values, counts = np.unique(arr, return_counts=True)\n    max_count = np.max(counts)\n    most_frequent_value = values[np.argmax(counts)]\n    indices = np.where(arr == most_frequent_value)[0]\n    return most_frequent_value, indices\nx = np.array([1, 2, 3, 4, 5, 1, 2, 1, 1, 1])\ny = np.array([1, 1, 1, 2, 3, 4, 2, 4, 3, 3])\nmx, ix = most_frequent(x)\nmy, iy = most_frequent(y)\nprint(f'Most frequent value in x: {mx}, Indices: {ix}')\nprint(f'Most frequent value in y: {my}, Indices: {iy}')",
      "metadata": {
        "trusted": true
      },
      "outputs": [
        {
          "name": "stdout",
          "output_type": "stream",
          "text": "Most frequent value in x: 1, Indices: [0 5 7 8 9]\nMost frequent value in y: 1, Indices: [0 1 2]\n"
        }
      ],
      "execution_count": 6
    },
    {
      "id": "cfb13fd9-1418-46fb-a1bc-0a18970c18c1",
      "cell_type": "code",
      "source": "arr=np.array([[10, 20, 30], [40, 50, 60], [70, 80, 90]])\nprint(arr[0][1])\nprint(arr[2][0])",
      "metadata": {
        "trusted": true
      },
      "outputs": [
        {
          "name": "stdout",
          "output_type": "stream",
          "text": "20\n70\n"
        }
      ],
      "execution_count": 8
    },
    {
      "id": "c73ee8eb-66fb-4960-9366-9c05cdef5bcd",
      "cell_type": "code",
      "source": "Krishna=np.linspace(10,100,25)\nprint(Krishna)\nprint(f'Total dimensions:{Krishna.ndim}')\nprint(f'Shape: {Krishna.shape}')\nprint(f'Total elements: {Krishna.size}')\nprint(f'Data type: {Krishna.dtype}')\nprint(f'Total bytes: {Krishna.nbytes}')\nprint('Transpose of the array :',Krishna.reshape(len(Krishna),1))\nprint('Transpose of the array :',Krishna.T)",
      "metadata": {
        "trusted": true
      },
      "outputs": [
        {
          "name": "stdout",
          "output_type": "stream",
          "text": "[ 10.    13.75  17.5   21.25  25.    28.75  32.5   36.25  40.    43.75\n  47.5   51.25  55.    58.75  62.5   66.25  70.    73.75  77.5   81.25\n  85.    88.75  92.5   96.25 100.  ]\nTotal dimensions:1\nShape: (25,)\nTotal elements: 25\nData type: float64\nTotal bytes: 200\nTranspose of the array : [[ 10.  ]\n [ 13.75]\n [ 17.5 ]\n [ 21.25]\n [ 25.  ]\n [ 28.75]\n [ 32.5 ]\n [ 36.25]\n [ 40.  ]\n [ 43.75]\n [ 47.5 ]\n [ 51.25]\n [ 55.  ]\n [ 58.75]\n [ 62.5 ]\n [ 66.25]\n [ 70.  ]\n [ 73.75]\n [ 77.5 ]\n [ 81.25]\n [ 85.  ]\n [ 88.75]\n [ 92.5 ]\n [ 96.25]\n [100.  ]]\nTranspose of the array : [ 10.    13.75  17.5   21.25  25.    28.75  32.5   36.25  40.    43.75\n  47.5   51.25  55.    58.75  62.5   66.25  70.    73.75  77.5   81.25\n  85.    88.75  92.5   96.25 100.  ]\n"
        }
      ],
      "execution_count": 11
    },
    {
      "id": "5a272b36-324d-44e9-bec0-ffd325ff9b88",
      "cell_type": "code",
      "source": "ucs420_Krishna = np.array([[10, 20, 30, 40], [50, 60, 70, 80], [90, 15, 20, 35]])\nprint(\"Mean:\", np.mean(ucs420_Krishna))\nprint(\"Median:\", np.median(ucs420_Krishna))\nprint(\"Max:\", np.max(ucs420_Krishna))\nprint(\"Min:\", np.min(ucs420_Krishna))\nprint(\"Unique Elements:\", np.unique(ucs420_Krishna))\nreshaped_ucs420_Krishna = ucs420_Krishna.reshape(4, 3)\nprint(\"Reshaped:\\n\", reshaped_ucs420_Krishna)\nresized_ucs420_Krishna = np.resize(ucs420_Krishna, (2, 3))\nprint(\"Resized:\\n\", resized_ucs420_Krishna)",
      "metadata": {
        "trusted": true
      },
      "outputs": [
        {
          "name": "stdout",
          "output_type": "stream",
          "text": "Mean: 43.333333333333336\nMedian: 37.5\nMax: 90\nMin: 10\nUnique Elements: [10 15 20 30 35 40 50 60 70 80 90]\nReshaped:\n [[10 20 30]\n [40 50 60]\n [70 80 90]\n [15 20 35]]\nResized:\n [[10 20 30]\n [40 50 60]]\n"
        }
      ],
      "execution_count": 12
    }
  ]
}